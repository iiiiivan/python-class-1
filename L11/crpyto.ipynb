{
 "cells": [
  {
   "cell_type": "markdown",
   "metadata": {},
   "source": [
    "# Introduction to Cryptology (Ceasar Cipher)"
   ]
  },
  {
   "cell_type": "markdown",
   "metadata": {},
   "source": [
    "## Encoding with the ``ord``"
   ]
  },
  {
   "cell_type": "code",
   "execution_count": 8,
   "metadata": {},
   "outputs": [
    {
     "data": {
      "text/plain": [
       "'a'"
      ]
     },
     "execution_count": 8,
     "metadata": {},
     "output_type": "execute_result"
    }
   ],
   "source": [
    "message = 'this is a secret' \n",
    "# encode message\n",
    "test = 'a'\n",
    "\n",
    "num = ord(test)\n",
    "chr(num)"
   ]
  },
  {
   "cell_type": "code",
   "execution_count": 27,
   "metadata": {},
   "outputs": [
    {
     "name": "stdout",
     "output_type": "stream",
     "text": [
      "[116, 104, 105, 115, 32, 105, 115, 32, 97, 32, 115, 101, 99, 114, 101, 116]\n"
     ]
    }
   ],
   "source": [
    "message = 'this is a secret' \n",
    "\n",
    "encoded_message = []\n",
    "for i in range(len(message)):\n",
    "    num = ord(message[i])\n",
    "    encoded_message.append(num)\n",
    "print(encoded_message)"
   ]
  },
  {
   "cell_type": "code",
   "execution_count": 40,
   "metadata": {},
   "outputs": [
    {
     "name": "stdout",
     "output_type": "stream",
     "text": [
      "[116, 104, 105, 115, 32, 105, 115, 32, 97, 32, 115, 101, 99, 114, 101, 116]\n",
      "this is a secret\n"
     ]
    }
   ],
   "source": [
    "print(encoded_message)\n",
    "decoded_message = ''\n",
    "# decoded_message += chr(encoded_message[0])\n",
    "# decoded_message += chr(encoded_message[1])\n",
    "for i in range(len(encoded_message)):\n",
    "    decoded_message += chr(encoded_message[i])\n",
    "    \n",
    "print(decoded_message)"
   ]
  },
  {
   "cell_type": "code",
   "execution_count": 51,
   "metadata": {},
   "outputs": [
    {
     "name": "stdout",
     "output_type": "stream",
     "text": [
      "ab\n"
     ]
    }
   ],
   "source": [
    "message_list = 'ab'\n",
    "code = []\n",
    "for i in range(len(message_list)):\n",
    "    code.append(ord(message_list[i]))\n",
    "\n",
    "msg = ''\n",
    "for i in range(len(code)):\n",
    "    msg += chr(code[i])\n",
    "\n",
    "print(msg)"
   ]
  },
  {
   "cell_type": "code",
   "execution_count": 57,
   "metadata": {},
   "outputs": [
    {
     "name": "stdout",
     "output_type": "stream",
     "text": [
      "ice creams for everyone!\n"
     ]
    }
   ],
   "source": [
    "secret = [105, 99, 101, 32, 99, 114, 101, 97, 109,\n",
    " 115, 32, 102, 111, 114, 32, 101, 118, 101, 114, 121, 111, 110, 101, 33]\n",
    "word=''\n",
    "for i in range(len(secret)):\n",
    "    word+=chr(secret[i])\n",
    "print(word)"
   ]
  },
  {
   "cell_type": "markdown",
   "metadata": {},
   "source": [
    "## Caesar Cipher (Shift Cipher)"
   ]
  },
  {
   "cell_type": "code",
   "execution_count": 71,
   "metadata": {},
   "outputs": [
    {
     "name": "stdout",
     "output_type": "stream",
     "text": [
      "[116, 102, 100, 115, 102, 117, 33, 110, 102, 116, 116, 98, 104, 102]\n"
     ]
    }
   ],
   "source": [
    "msg = 'secret message'\n",
    "key = 1\n",
    "code = []\n",
    "for i in range(len(msg)):\n",
    "    code.append(ord(msg[i]) + key)\n",
    "print(code)"
   ]
  },
  {
   "cell_type": "code",
   "execution_count": 72,
   "metadata": {},
   "outputs": [
    {
     "name": "stdout",
     "output_type": "stream",
     "text": [
      "secret message\n"
     ]
    }
   ],
   "source": [
    "word=''\n",
    "for i in range(len(code)):\n",
    "    word+=chr(code[i]-key)\n",
    "print(word)"
   ]
  },
  {
   "cell_type": "code",
   "execution_count": 75,
   "metadata": {},
   "outputs": [
    {
     "name": "stdout",
     "output_type": "stream",
     "text": [
      "tfdsfu!nfttbhf\n"
     ]
    }
   ],
   "source": [
    "msg = 'secret message'\n",
    "key = 1\n",
    "code = ''\n",
    "for i in range(len(msg)):\n",
    "    code += chr(ord(msg[i]) + key)\n",
    "print(code)"
   ]
  },
  {
   "cell_type": "code",
   "execution_count": 78,
   "metadata": {},
   "outputs": [
    {
     "name": "stdout",
     "output_type": "stream",
     "text": [
      "secret message\n"
     ]
    }
   ],
   "source": [
    "msg = ''\n",
    "for i in range(len(code)):\n",
    "    msg += chr(ord(code[i])-key)\n",
    "print(msg)"
   ]
  },
  {
   "cell_type": "code",
   "execution_count": 2,
   "metadata": {},
   "outputs": [],
   "source": [
    "def encode(text: str, key: int) -> str:\n",
    "    code = ''\n",
    "    for i in range(len(text)):\n",
    "        code += chr(ord(text[i]) + key)\n",
    "    return code\n",
    "\n",
    "def decode(code: str, key: int) -> str:\n",
    "    pass"
   ]
  },
  {
   "cell_type": "code",
   "execution_count": 3,
   "metadata": {},
   "outputs": [
    {
     "name": "stdout",
     "output_type": "stream",
     "text": [
      "¬Í­ÚÅÒ´ÝØÌÓÒÇÐÅ××Í××ÓÊÙÒ\n"
     ]
    }
   ],
   "source": [
    "code = encode('Hi Ivan, Python class is so fun', 100)\n",
    "print(code)\n",
    "# message = decode(code, 100)"
   ]
  },
  {
   "cell_type": "code",
   "execution_count": null,
   "metadata": {},
   "outputs": [],
   "source": []
  }
 ],
 "metadata": {
  "interpreter": {
   "hash": "f6a170a90706a3c1aa8b03051d94438fd8741112f1bf143680843333b2e5f9b1"
  },
  "kernelspec": {
   "display_name": "Python 3.8.8 ('base')",
   "language": "python",
   "name": "python3"
  },
  "language_info": {
   "codemirror_mode": {
    "name": "ipython",
    "version": 3
   },
   "file_extension": ".py",
   "mimetype": "text/x-python",
   "name": "python",
   "nbconvert_exporter": "python",
   "pygments_lexer": "ipython3",
   "version": "3.8.8"
  },
  "orig_nbformat": 4
 },
 "nbformat": 4,
 "nbformat_minor": 2
}
