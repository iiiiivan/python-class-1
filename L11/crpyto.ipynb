{
 "cells": [
  {
   "cell_type": "markdown",
   "metadata": {},
   "source": [
    "# Introduction to Cryptology (Ceasar Cipher)"
   ]
  },
  {
   "cell_type": "markdown",
   "metadata": {},
   "source": [
    "## Encoding with the ``ord``"
   ]
  },
  {
   "cell_type": "code",
   "execution_count": 8,
   "metadata": {},
   "outputs": [
    {
     "data": {
      "text/plain": [
       "'a'"
      ]
     },
     "execution_count": 8,
     "metadata": {},
     "output_type": "execute_result"
    }
   ],
   "source": [
    "message = 'this is a secret' \n",
    "# encode message\n",
    "test = 'a'\n",
    "\n",
    "num = ord(test)\n",
    "chr(num)"
   ]
  },
  {
   "cell_type": "code",
   "execution_count": 27,
   "metadata": {},
   "outputs": [
    {
     "name": "stdout",
     "output_type": "stream",
     "text": [
      "[116, 104, 105, 115, 32, 105, 115, 32, 97, 32, 115, 101, 99, 114, 101, 116]\n"
     ]
    }
   ],
   "source": [
    "message = 'this is a secret' \n",
    "\n",
    "encoded_message = []\n",
    "for i in range(len(message)):\n",
    "    num = ord(message[i])\n",
    "    encoded_message.append(num)\n",
    "print(encoded_message)"
   ]
  },
  {
   "cell_type": "code",
   "execution_count": 40,
   "metadata": {},
   "outputs": [
    {
     "name": "stdout",
     "output_type": "stream",
     "text": [
      "[116, 104, 105, 115, 32, 105, 115, 32, 97, 32, 115, 101, 99, 114, 101, 116]\n",
      "this is a secret\n"
     ]
    }
   ],
   "source": [
    "print(encoded_message)\n",
    "decoded_message = ''\n",
    "# decoded_message += chr(encoded_message[0])\n",
    "# decoded_message += chr(encoded_message[1])\n",
    "for i in range(len(encoded_message)):\n",
    "    decoded_message += chr(encoded_message[i])\n",
    "    \n",
    "print(decoded_message)"
   ]
  },
  {
   "cell_type": "code",
   "execution_count": null,
   "metadata": {},
   "outputs": [],
   "source": []
  }
 ],
 "metadata": {
  "interpreter": {
   "hash": "f6a170a90706a3c1aa8b03051d94438fd8741112f1bf143680843333b2e5f9b1"
  },
  "kernelspec": {
   "display_name": "Python 3.8.8 ('base')",
   "language": "python",
   "name": "python3"
  },
  "language_info": {
   "codemirror_mode": {
    "name": "ipython",
    "version": 3
   },
   "file_extension": ".py",
   "mimetype": "text/x-python",
   "name": "python",
   "nbconvert_exporter": "python",
   "pygments_lexer": "ipython3",
   "version": "3.8.8"
  },
  "orig_nbformat": 4
 },
 "nbformat": 4,
 "nbformat_minor": 2
}
